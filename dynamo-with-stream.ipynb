{
 "cells": [
  {
   "cell_type": "markdown",
   "metadata": {},
   "source": [
    "## Introduction to DynamoDB\n",
    "\n",
    "In this notebook we provide an introduction to DynamoDB by doing the following:\n",
    "\n",
    "- Create a new DynamoDB table and expose a DynamoDB stream\n",
    "- Put items in the table.\n",
    "- Retrieve data with Query and Scan\n",
    "- Update and Conditionally update Items\n",
    "- Review the stream for the sequence of changes to the table\n"
   ]
  },
  {
   "cell_type": "code",
   "execution_count": 1,
   "metadata": {},
   "outputs": [],
   "source": [
    "chosen_region = 'us-east-2'"
   ]
  },
  {
   "cell_type": "code",
   "execution_count": null,
   "metadata": {},
   "outputs": [],
   "source": [
    "import boto3\n",
    "import json\n",
    "from botocore.exceptions import ClientError\n",
    "from boto3.dynamodb.conditions import Key, Attr\n",
    "import random\n",
    "random.seed(5)"
   ]
  },
  {
   "cell_type": "markdown",
   "metadata": {},
   "source": [
    "You can create tables using API calls. However, unless this is a temporary table, most likley you'll be using the AWS CLI or some automation like CloudFormation to create resources. The code below creates a table where the primary key is the combination of Author and Title."
   ]
  },
  {
   "cell_type": "code",
   "execution_count": null,
   "metadata": {},
   "outputs": [],
   "source": [
    "\n",
    "# Getting Resource API object for DynamoDB service\n",
    "dynamodb = boto3.resource('dynamodb', region_name=chosen_region)\n",
    "\n",
    "# Lets create table that uses a compound key AND exposes a dynamodb stream\n",
    "# Keys must be STRING, NUMBER, or BINARY\n",
    "\n",
    "try:\n",
    "    print(\"Creating table...\")\n",
    "    table = dynamodb.create_table(\n",
    "        TableName='books',\n",
    "        KeySchema=[\n",
    "            {\n",
    "                'AttributeName': 'Author',\n",
    "                'KeyType': 'HASH' # ie Partion Key\n",
    "            },\n",
    "            {\n",
    "                'AttributeName': 'Title',\n",
    "                'KeyType': 'RANGE' # ie Sort Key\n",
    "            }\n",
    "        ],\n",
    "        AttributeDefinitions=[\n",
    "            {\n",
    "                'AttributeName': 'Author',\n",
    "                'AttributeType': 'S'\n",
    "            },\n",
    "            {\n",
    "                'AttributeName': 'Title',\n",
    "                'AttributeType': 'S'\n",
    "            },\n",
    "\n",
    "        ],\n",
    "        ProvisionedThroughput={\n",
    "            'ReadCapacityUnits': 5,\n",
    "            'WriteCapacityUnits': 5\n",
    "        },\n",
    "        StreamSpecification={\n",
    "        'StreamEnabled': True,\n",
    "        'StreamViewType': 'NEW_AND_OLD_IMAGES'\n",
    "    }\n",
    "    )\n",
    "    \n",
    "    print(\"Waiting for table to become active...\")\n",
    "    table.wait_until_exists()\n",
    "    print(\"Table ready!\")\n",
    "except ClientError as ce:\n",
    "    if ce.response['Error']['Code'] == 'ResourceInUseException':\n",
    "        print(\"Table already exists. Nothing to do.\")\n",
    "    else:\n",
    "        print(ce)\n",
    "     "
   ]
  },
  {
   "cell_type": "markdown",
   "metadata": {},
   "source": [
    "It's much more common to connect to an existing table using code. Here is how you get a client to connect to an existing table."
   ]
  },
  {
   "cell_type": "code",
   "execution_count": null,
   "metadata": {},
   "outputs": [],
   "source": [
    "import boto3\n",
    "import time\n",
    "dynamodb = boto3.resource('dynamodb', region_name=chosen_region)\n",
    "print(\"Connecting to existing table\")\n",
    "table = dynamodb.Table('books')\n",
    "\n"
   ]
  },
  {
   "cell_type": "markdown",
   "metadata": {},
   "source": [
    "DynamoDB tables can operate in a purely on-demand fashion such that Dynamo handles the scaling of the table. This is good for tables with unpredictable usage."
   ]
  },
  {
   "cell_type": "code",
   "execution_count": null,
   "metadata": {},
   "outputs": [],
   "source": [
    "# Switching to on-demand mode from provisioned throughput (can do 1x per day)\n",
    "if ((not table.billing_mode_summary) or (table.billing_mode_summary['BillingMode'] != 'PAY_PER_REQUEST')):\n",
    "    table.update(BillingMode='PAY_PER_REQUEST') # or 'PROVISIONED'\n",
    "else:\n",
    "    print('Nothing to do. Billing mode is already on-demand.')"
   ]
  },
  {
   "cell_type": "code",
   "execution_count": null,
   "metadata": {},
   "outputs": [],
   "source": [
    "# Put a single item into the table\n",
    "table.put_item(Item= { 'Author': 'Heiwad', 'Title': 'The Guide to Travel and Crab Cakes', 'Year': 2022})"
   ]
  },
  {
   "cell_type": "code",
   "execution_count": null,
   "metadata": {},
   "outputs": [],
   "source": [
    "# Conditional Put to Avoid Clobbering Existing Value\n",
    "# It's avoiding the clobbering the same title only for the current hash key. Run it 2x to get an exception\n",
    "try:\n",
    "    table.put_item(Item= { 'Author': 'Jill',\n",
    "               'Title': 'Ice Cream Part 2'},\n",
    "           ConditionExpression='attribute_not_exists(Title)')\n",
    "except ClientError as ce:\n",
    "    if ce.response['Error']['Code'] == 'ConditionalCheckFailedException':\n",
    "        print('The item already exists. PutItem Canceled. ')\n",
    "    "
   ]
  },
  {
   "cell_type": "markdown",
   "metadata": {},
   "source": [
    "You can add new non-key attributes as needed."
   ]
  },
  {
   "cell_type": "code",
   "execution_count": null,
   "metadata": {},
   "outputs": [],
   "source": [
    "table.put_item(Item= { 'Author': 'Mary Wollstonecraft Shelley', 'Title': 'Frankenstein', 'Year':1997})"
   ]
  },
  {
   "cell_type": "code",
   "execution_count": null,
   "metadata": {},
   "outputs": [],
   "source": [
    "import json\n",
    "# Load data from local file\n",
    "print(\"Loading data from Local JSON file\")\n",
    "books = []\n",
    "with open(\"books.json\") as f:\n",
    "    books = json.load(f)\n",
    "print (\"Loaded {0} records from file\".format(str(len(books))))    \n",
    "\n",
    "#Show a sample JSON record\n",
    "books[0] "
   ]
  },
  {
   "cell_type": "code",
   "execution_count": null,
   "metadata": {},
   "outputs": [],
   "source": [
    "#Batch write of records to database\n",
    "print(\"Batch writing records to table\")\n",
    "with table.batch_writer() as batch:\n",
    "\n",
    "    for book in books:   \n",
    "        # Set the Keys\n",
    "        item = {'Author': book['Author'],\n",
    "                'Title': book['Title']}\n",
    "\n",
    "        # Load in optional attributes\n",
    "        if 'Editions' in book:\n",
    "            item['Editions'] = set(book['Editions']) # Make sure 'Editions' is loaded as a String Set\n",
    "        if 'Rating' in book:\n",
    "            item['Rating'] = book['Rating']\n",
    "\n",
    "        batch.put_item(\n",
    "            Item= item\n",
    "        )\n",
    "   \n",
    "    \n",
    "\n",
    "print(\"Done loading table\")"
   ]
  },
  {
   "cell_type": "code",
   "execution_count": null,
   "metadata": {},
   "outputs": [],
   "source": [
    "# Get a Specific Item by fully specified Key\n",
    "res = table.get_item(Key={\n",
    "    'Author' : 'H.G. Wells',\n",
    "    'Title' : 'The Invisible Man'\n",
    "})\n",
    "\n",
    "res['Item']"
   ]
  },
  {
   "cell_type": "code",
   "execution_count": null,
   "metadata": {},
   "outputs": [],
   "source": [
    "#Query by primary Key to quickly find any item in the datbase\n",
    "res = table.query(KeyConditionExpression=Key('Author').eq(\"H.G. Wells\"))\n",
    "\n",
    "print ('Query Results')\n",
    "print('Count: ' + str(res['Count']))\n",
    "print('Scanned: ' + str(res['ScannedCount']))\n",
    "res['Items']\n"
   ]
  },
  {
   "cell_type": "code",
   "execution_count": null,
   "metadata": {},
   "outputs": [],
   "source": [
    "#Query by primary Key to quickly find any item in the datbase\n",
    "res = table.query(KeyConditionExpression=Key('Author').eq(\"H.G. Wells\"),\n",
    "                  FilterExpression=Attr('Editions').contains('Kindle'))\n",
    "\n",
    "print ('Query Results')\n",
    "print('Count: ' + str(res['Count']))\n",
    "print('Scanned: ' + str(res['ScannedCount']))\n",
    "res['Items']\n"
   ]
  },
  {
   "cell_type": "code",
   "execution_count": null,
   "metadata": {},
   "outputs": [],
   "source": [
    "# Scan compares items in all partitions of the table to your filter expression.\n",
    "# This is less efficient than query but gives you maximum flexibility to find items by any attribute.\n",
    "res = table.scan( \n",
    "    FilterExpression=Attr('Editions')\n",
    "    .contains('Kindle') & Attr('Rating').gte(5)#,\n",
    "    #ProjectionExpression= \"Title, Editions, Rating\",\n",
    ")\n",
    "\n",
    "\n",
    "print ('Query Results')\n",
    "print('Count: ' + str(res['Count']))\n",
    "print('Scanned: ' + str(res['ScannedCount']))\n",
    "res['Items']"
   ]
  },
  {
   "cell_type": "code",
   "execution_count": null,
   "metadata": {},
   "outputs": [],
   "source": [
    "## Update an Item\n",
    "response = table.get_item(\n",
    "    Key={\n",
    "        'Title': 'Moby Dick',\n",
    "        'Author': 'Herman Melville'\n",
    "    },\n",
    "    ConsistentRead = True # Changing Read Consistency\n",
    ")\n",
    "item = response['Item']\n",
    "print(\"Pre-update version of item\")\n",
    "print(item)\n",
    "\n",
    "\n",
    "response = table.update_item(\n",
    "    Key={\n",
    "        'Title': 'Moby Dick',\n",
    "        'Author': 'Herman Melville'\n",
    "    },\n",
    "    UpdateExpression='SET Rating = :rating, Version=:ver',\n",
    "    ExpressionAttributeValues={\n",
    "        ':rating': 5,\n",
    "        ':ver' : 2\n",
    "    },\n",
    "    ReturnValues = \"ALL_NEW\" # Reading back the updated item\n",
    ")\n",
    "\n",
    "updated_item = response['Attributes']\n",
    "print(\"Post-update version of item\")\n",
    "print(updated_item)\n"
   ]
  },
  {
   "cell_type": "code",
   "execution_count": null,
   "metadata": {},
   "outputs": [],
   "source": [
    "# What if another thread tries to the item?\n",
    "# Use Conditional Update for Optimistic Concurrency Control\n",
    "\n",
    "response = table.update_item(\n",
    "    Key={\n",
    "        'Title': 'Moby Dick',\n",
    "        'Author': 'Herman Melville'\n",
    "    },\n",
    "    UpdateExpression='SET #score = :rating, Version = :newver',\n",
    "    ConditionExpression=\"Version = :ver\",\n",
    "    ExpressionAttributeNames={ \"#score\": \"Rating\" },\n",
    "    ExpressionAttributeValues={\n",
    "        ':rating': 1,\n",
    "        ':ver': 2,\n",
    "        ':newver': 3\n",
    "    },\n",
    "    ReturnValues= \"ALL_NEW\"\n",
    ")\n",
    "\n",
    "updated_item = response['Attributes']\n",
    "print(updated_item)\n"
   ]
  },
  {
   "cell_type": "code",
   "execution_count": null,
   "metadata": {},
   "outputs": [],
   "source": [
    "# Run the same conditional update again- THIS TIME IT IS EXPECTED TO THROW AN EXCEPTION\n",
    "\n",
    "try:\n",
    "    response = table.update_item(\n",
    "        Key={\n",
    "            'Title': 'Moby Dick',\n",
    "            'Author': 'Herman Melville'\n",
    "        },\n",
    "        UpdateExpression='SET #score = :rating, Version = :newver',\n",
    "        ConditionExpression=\"Version = :ver\",\n",
    "        ExpressionAttributeNames={ \"#score\": \"Rating\" },\n",
    "        ExpressionAttributeValues={\n",
    "            ':rating': 1,\n",
    "            ':ver': 2,\n",
    "            ':newver': 3\n",
    "        },\n",
    "        ReturnValues= \"ALL_NEW\"\n",
    "    )\n",
    "\n",
    "    updated_item = response['Attributes']\n",
    "    print(updated_item)\n",
    "except ClientError as ce:\n",
    "    if ce.response['Error']['Code'] == 'ConditionalCheckFailedException':\n",
    "        # Put your retry code here\n",
    "        print(\"Exception Condition Triggered as expected\")\n",
    "        print (\"Version attribute is not the expected value ... the item must have been updated\")\n",
    "    else:\n",
    "        print(ce)\n"
   ]
  },
  {
   "cell_type": "markdown",
   "metadata": {},
   "source": [
    "## Multi-Item Transaction"
   ]
  },
  {
   "cell_type": "code",
   "execution_count": null,
   "metadata": {},
   "outputs": [],
   "source": [
    "client = table.meta.client\n",
    "# Multi-Item Write Transaction - Supports ConditionCheck, Put, Update, and Delete from different tables\n",
    "client.transact_write_items(TransactItems=[{\n",
    "    'ConditionCheck': {\n",
    "        'TableName': 'books',\n",
    "        'Key': {\n",
    "            'Title': 'Moby Dick',\n",
    "            'Author': 'Herman Melville'\n",
    "        },\n",
    "        'ConditionExpression': 'Version = :ver',\n",
    "        'ExpressionAttributeValues': { ':ver': 3}\n",
    "    }\n",
    "\n",
    "},\n",
    "{\n",
    "    'Put' : {\n",
    "        'TableName': 'books',\n",
    "        'Item': {\n",
    "            'Title': 'Tales from the bottom of the Sea',\n",
    "            'Author': 'Captain Ahab',\n",
    "            'Rating': 3\n",
    "        },\n",
    "\n",
    "    }\n",
    "},{\n",
    "    'Put': {\n",
    "        'TableName': 'books',\n",
    "        'Item': {\n",
    "            'Title': 'Winning',\n",
    "            'Author': 'The Whale',\n",
    "            'Rating': 5\n",
    "        },\n",
    "\n",
    "    }\n",
    "}])\n"
   ]
  },
  {
   "cell_type": "markdown",
   "metadata": {},
   "source": [
    "### DynamoDB Stream\n",
    "\n",
    "Let's explore the stream for this table"
   ]
  },
  {
   "cell_type": "code",
   "execution_count": null,
   "metadata": {},
   "outputs": [],
   "source": [
    "# Get list of streams for DynamoDB in for 'books' table\n",
    "\n",
    "import boto3\n",
    "ddbstreams = boto3.client('dynamodbstreams',region_name=chosen_region)\n",
    "streams = ddbstreams.list_streams(TableName='books') \n",
    "streams"
   ]
  },
  {
   "cell_type": "code",
   "execution_count": null,
   "metadata": {},
   "outputs": [],
   "source": [
    "# Describe the Stream\n",
    "stream = streams['Streams'][0]['StreamArn']\n",
    "stream_description = ddbstreams.describe_stream(StreamArn=stream,Limit=100)\n",
    "stream_description"
   ]
  },
  {
   "cell_type": "code",
   "execution_count": null,
   "metadata": {},
   "outputs": [],
   "source": [
    "# Pick one of the shards from the description\n",
    "shardId = stream_description['StreamDescription']['Shards'][0]['ShardId']\n",
    "shardId"
   ]
  },
  {
   "cell_type": "code",
   "execution_count": null,
   "metadata": {},
   "outputs": [],
   "source": [
    "get_iterator_res = ddbstreams.get_shard_iterator(\n",
    "    StreamArn=stream,\n",
    "    ShardId=shardId,\n",
    "    ShardIteratorType='TRIM_HORIZON')\n",
    "\n",
    "iterator = get_iterator_res['ShardIterator']\n",
    "iterator"
   ]
  },
  {
   "cell_type": "code",
   "execution_count": null,
   "metadata": {},
   "outputs": [],
   "source": [
    "get_records_res = ddbstreams.get_records(ShardIterator=iterator)\n",
    "\n",
    "next_iterator = get_records_res['NextShardIterator']\n",
    "records = get_records_res['Records']\n"
   ]
  },
  {
   "cell_type": "code",
   "execution_count": null,
   "metadata": {
    "scrolled": true
   },
   "outputs": [],
   "source": [
    "# Print each change to the Table out from the current shard of the stream\n",
    "# In a production table you will likely have multiple shards.\n",
    "\n",
    "if (len(records) > 0):\n",
    "    table_fmt = \"{:<12} {:<30} {:<20}\"\n",
    "    print (table_fmt.format('Event','Author','Title'))\n",
    "    for record in records:\n",
    "        eventName = record['eventName']\n",
    "        author = record['dynamodb']['Keys']['Author']['S']\n",
    "        title = record['dynamodb']['Keys']['Title']['S']\n",
    "        print (table_fmt.format(eventName, author, title))\n",
    "else:\n",
    "    print(\"No records found on this iteration\")\n"
   ]
  },
  {
   "cell_type": "code",
   "execution_count": null,
   "metadata": {},
   "outputs": [],
   "source": [
    "# Let's read through ALL the available shards in the order they were listed (not necessarily in order events)\n",
    "\n",
    "streamArn = ddbstreams.list_streams(Limit=100)['Streams'][0]['StreamArn']\n",
    "for shard in ddbstreams.describe_stream(StreamArn=streamArn)['StreamDescription']['Shards']:\n",
    "    shardId = shard['ShardId']\n",
    "    \n",
    "    iterator = ddbstreams.get_shard_iterator(StreamArn=streamArn,\n",
    "                                 ShardId=shardId,\n",
    "                                 ShardIteratorType='TRIM_HORIZON')['ShardIterator']\n",
    "    \n",
    "    get_records_res = ddbstreams.get_records(ShardIterator=iterator)\n",
    "    print(\"Checking \" + shardId)\n",
    "    loop = True\n",
    "    count = 0\n",
    "    while loop:\n",
    "\n",
    "        # With 'Trim Horizon' you may still get some cases where no records are returned for the first few reads\n",
    "        records = get_records_res['Records']\n",
    "        if (len(records) > 0):\n",
    "            print('    Found records on iteration number: ' + str(count))\n",
    "            for record in get_records_res['Records']:\n",
    "                eventName = record['eventName']\n",
    "                author = record['dynamodb']['Keys']['Author']['S']\n",
    "                title = record['dynamodb']['Keys']['Title']['S']\n",
    "                print ('    ' + eventName + ' - ' + author + ' - ' + title)\n",
    "\n",
    "       \n",
    "        # Check to see if there is more data in the shard.\n",
    "        if 'NextShardIterator' in get_records_res:\n",
    "            count = count + 1\n",
    "            next_iterator = get_records_res['NextShardIterator']\n",
    "            get_records_res = ddbstreams.get_records(ShardIterator=next_iterator)\n",
    "            \n",
    "            # For DEMO - an ACTIVE shard will keep returning a next iterator indefinitely\n",
    "            # Setting MAX iterations so demo will exit\n",
    "            if count > 150:\n",
    "                print('    Shard still is still active but reached polling limit for demo.')\n",
    "                loop = False\n",
    "\n",
    "        # No Next Iterator present - end the loop\n",
    "        else:\n",
    "            print('    Iteration: ' + str(count) + ' - No next iterator found. Shard is closed.')\n",
    "            loop = False\n",
    "\n",
    "    \n",
    "print(\"Done!\") "
   ]
  },
  {
   "cell_type": "code",
   "execution_count": null,
   "metadata": {},
   "outputs": [],
   "source": [
    "# Cleaning up by deleting table\n",
    "print(\"Deleting table...\")\n",
    "try:\n",
    "    table.delete()\n",
    "    print(\"Waiting for table to be deleted...\")\n",
    "    table.wait_until_not_exists()\n",
    "    print(\"Table deleted!\")\n",
    "except ClientError as ce:\n",
    "    if ce.response['Error']['Code'] == 'ResourceNotFoundException':\n",
    "        print(\"No table found. Nothing to do.\")\n"
   ]
  },
  {
   "cell_type": "markdown",
   "metadata": {
    "collapsed": true
   },
   "source": [
    "\n"
   ]
  }
 ],
 "metadata": {
  "kernelspec": {
   "display_name": "Python 3",
   "language": "python",
   "name": "python3"
  },
  "language_info": {
   "codemirror_mode": {
    "name": "ipython",
    "version": 3
   },
   "file_extension": ".py",
   "mimetype": "text/x-python",
   "name": "python",
   "nbconvert_exporter": "python",
   "pygments_lexer": "ipython3",
   "version": "3.7.7"
  }
 },
 "nbformat": 4,
 "nbformat_minor": 2
}
